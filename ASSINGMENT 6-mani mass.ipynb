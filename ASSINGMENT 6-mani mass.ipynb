{
 "cells": [
  {
   "cell_type": "markdown",
   "metadata": {},
   "source": [
    "# ASSINGMENT 6-DAY 8"
   ]
  },
  {
   "cell_type": "markdown",
   "metadata": {},
   "source": [
    "QUESTION 1"
   ]
  },
  {
   "cell_type": "code",
   "execution_count": 1,
   "metadata": {},
   "outputs": [],
   "source": [
    "def getInput(base):\n",
    "    def repeat():\n",
    "        print(\"Enter your range of prime numbers to print \")\n",
    "        a = int(input(\"From range - \"))\n",
    "        b = int(input(\"Upto range - \"))\n",
    "        base(a,b)   \n",
    "    return repeat"
   ]
  },
  {
   "cell_type": "code",
   "execution_count": 2,
   "metadata": {},
   "outputs": [],
   "source": [
    "@getInput\n",
    "def prime_nos(c,d):\n",
    "    for num in range(c,d+1):\n",
    "        if num > 1:\n",
    "            for i in range(2, num):\n",
    "                if (num % i) == 0:\n",
    "                    break\n",
    "            else:\n",
    "                print(num)"
   ]
  },
  {
   "cell_type": "code",
   "execution_count": 3,
   "metadata": {},
   "outputs": [
    {
     "name": "stdout",
     "output_type": "stream",
     "text": [
      "Enter your range of prime numbers to print \n",
      "From range - 40\n",
      "Upto range - 80\n",
      "41\n",
      "43\n",
      "47\n",
      "53\n",
      "59\n",
      "61\n",
      "67\n",
      "71\n",
      "73\n",
      "79\n"
     ]
    }
   ],
   "source": [
    "prime_nos()"
   ]
  },
  {
   "cell_type": "markdown",
   "metadata": {},
   "source": [
    "QUESTION 2"
   ]
  },
  {
   "cell_type": "code",
   "execution_count": 34,
   "metadata": {},
   "outputs": [
    {
     "name": "stdout",
     "output_type": "stream",
     "text": [
      "HELLO MY FRIEND\n",
      "I LIKE YOUR STYLE AND ATTITUDE\n",
      "DO YOU LOVE KARTHICK REALLY ?\n"
     ]
    }
   ],
   "source": [
    "base=open(\"winner.txt\",\"r\")\n",
    "ball=base.read()\n",
    "print(ball)"
   ]
  },
  {
   "cell_type": "code",
   "execution_count": 35,
   "metadata": {},
   "outputs": [
    {
     "name": "stdout",
     "output_type": "stream",
     "text": [
      "this mode of file is  not writable\n"
     ]
    }
   ],
   "source": [
    "try :\n",
    "    base.write(\"Hello eveyone\")\n",
    "    base.close()\n",
    "    print(\"completed\")\n",
    "except Exception as x:\n",
    "    print(\"this mode of file is \",x)"
   ]
  }
 ],
 "metadata": {
  "kernelspec": {
   "display_name": "Python 3",
   "language": "python",
   "name": "python3"
  },
  "language_info": {
   "codemirror_mode": {
    "name": "ipython",
    "version": 3
   },
   "file_extension": ".py",
   "mimetype": "text/x-python",
   "name": "python",
   "nbconvert_exporter": "python",
   "pygments_lexer": "ipython3",
   "version": "3.8.3"
  }
 },
 "nbformat": 4,
 "nbformat_minor": 4
}
